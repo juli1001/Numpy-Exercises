{
  "nbformat": 4,
  "nbformat_minor": 0,
  "metadata": {
    "colab": {
      "name": "nunpy exercises",
      "provenance": [],
      "authorship_tag": "ABX9TyNiZ85+LdNSk24c9EFEq83Z",
      "include_colab_link": true
    },
    "kernelspec": {
      "name": "python3",
      "display_name": "Python 3"
    },
    "language_info": {
      "name": "python"
    }
  },
  "cells": [
    {
      "cell_type": "markdown",
      "metadata": {
        "id": "view-in-github",
        "colab_type": "text"
      },
      "source": [
        "<a href=\"https://colab.research.google.com/github/juli1001/Numpy-Exercises/blob/main/nunpy_exercises.ipynb\" target=\"_parent\"><img src=\"https://colab.research.google.com/assets/colab-badge.svg\" alt=\"Open In Colab\"/></a>"
      ]
    },
    {
      "cell_type": "code",
      "metadata": {
        "id": "FzNy3_UecMX1"
      },
      "source": [
        "import numpy as np"
      ],
      "execution_count": 2,
      "outputs": []
    },
    {
      "cell_type": "code",
      "metadata": {
        "id": "j8jZh6rgeDbA"
      },
      "source": [
        "import pandas as pd\n"
      ],
      "execution_count": 3,
      "outputs": []
    },
    {
      "cell_type": "code",
      "metadata": {
        "id": "ehSbd3lNcdGw"
      },
      "source": [
        "a1=np.array([1,2,3])"
      ],
      "execution_count": 4,
      "outputs": []
    },
    {
      "cell_type": "code",
      "metadata": {
        "colab": {
          "base_uri": "https://localhost:8080/"
        },
        "id": "AZKO1kR0ctpw",
        "outputId": "03a27416-2e7c-47c1-f192-262607fc06e9"
      },
      "source": [
        "a1"
      ],
      "execution_count": 5,
      "outputs": [
        {
          "output_type": "execute_result",
          "data": {
            "text/plain": [
              "array([1, 2, 3])"
            ]
          },
          "metadata": {},
          "execution_count": 5
        }
      ]
    },
    {
      "cell_type": "code",
      "metadata": {
        "id": "ZWeulzWOcu0Q"
      },
      "source": [
        "a2=np.array([[1,2,3],[4,5,6]])"
      ],
      "execution_count": 6,
      "outputs": []
    },
    {
      "cell_type": "code",
      "metadata": {
        "colab": {
          "base_uri": "https://localhost:8080/"
        },
        "id": "reYQbc6Pc9tg",
        "outputId": "ecd7692f-daa4-497a-d1a2-cc64c80021a0"
      },
      "source": [
        "a2"
      ],
      "execution_count": 7,
      "outputs": [
        {
          "output_type": "execute_result",
          "data": {
            "text/plain": [
              "array([[1, 2, 3],\n",
              "       [4, 5, 6]])"
            ]
          },
          "metadata": {},
          "execution_count": 7
        }
      ]
    },
    {
      "cell_type": "code",
      "metadata": {
        "id": "aQyO3dxudAXw"
      },
      "source": [
        "a3=np.array([[[1,2,3],[4,5,6],[7,8,9]],[[10,11,12],[13,14,15],[16,17,18]]])"
      ],
      "execution_count": 8,
      "outputs": []
    },
    {
      "cell_type": "code",
      "metadata": {
        "colab": {
          "base_uri": "https://localhost:8080/"
        },
        "id": "jh6W5DfWdrhJ",
        "outputId": "f6d29344-f3ec-49c0-f551-a15bfc0340b6"
      },
      "source": [
        "a3"
      ],
      "execution_count": 9,
      "outputs": [
        {
          "output_type": "execute_result",
          "data": {
            "text/plain": [
              "array([[[ 1,  2,  3],\n",
              "        [ 4,  5,  6],\n",
              "        [ 7,  8,  9]],\n",
              "\n",
              "       [[10, 11, 12],\n",
              "        [13, 14, 15],\n",
              "        [16, 17, 18]]])"
            ]
          },
          "metadata": {},
          "execution_count": 9
        }
      ]
    },
    {
      "cell_type": "code",
      "metadata": {
        "colab": {
          "base_uri": "https://localhost:8080/"
        },
        "id": "GAaEdsC9dtPX",
        "outputId": "74bb3468-aad9-4bf6-d421-198a96105fe8"
      },
      "source": [
        "a1.ndim"
      ],
      "execution_count": 10,
      "outputs": [
        {
          "output_type": "execute_result",
          "data": {
            "text/plain": [
              "1"
            ]
          },
          "metadata": {},
          "execution_count": 10
        }
      ]
    },
    {
      "cell_type": "code",
      "metadata": {
        "colab": {
          "base_uri": "https://localhost:8080/"
        },
        "id": "8FPRFdRddw2B",
        "outputId": "c899c14d-24af-4bfb-ecdd-6a1da85cbef5"
      },
      "source": [
        "a1.shape"
      ],
      "execution_count": 11,
      "outputs": [
        {
          "output_type": "execute_result",
          "data": {
            "text/plain": [
              "(3,)"
            ]
          },
          "metadata": {},
          "execution_count": 11
        }
      ]
    },
    {
      "cell_type": "code",
      "metadata": {
        "colab": {
          "base_uri": "https://localhost:8080/"
        },
        "id": "2bUgkGX8d0AH",
        "outputId": "4eedbe5b-3198-44ae-f6bc-85ea4aa74a09"
      },
      "source": [
        "a2.ndim"
      ],
      "execution_count": 12,
      "outputs": [
        {
          "output_type": "execute_result",
          "data": {
            "text/plain": [
              "2"
            ]
          },
          "metadata": {},
          "execution_count": 12
        }
      ]
    },
    {
      "cell_type": "code",
      "metadata": {
        "colab": {
          "base_uri": "https://localhost:8080/"
        },
        "id": "i6_ixdHYd3HZ",
        "outputId": "62bf0508-928f-44c9-f587-38058ee43a01"
      },
      "source": [
        "a2.shape"
      ],
      "execution_count": 13,
      "outputs": [
        {
          "output_type": "execute_result",
          "data": {
            "text/plain": [
              "(2, 3)"
            ]
          },
          "metadata": {},
          "execution_count": 13
        }
      ]
    },
    {
      "cell_type": "code",
      "metadata": {
        "colab": {
          "base_uri": "https://localhost:8080/"
        },
        "id": "a5X4foEld5UA",
        "outputId": "a3174aa5-75f8-4780-cddb-eaafcbfe6a64"
      },
      "source": [
        "a3.ndim"
      ],
      "execution_count": 14,
      "outputs": [
        {
          "output_type": "execute_result",
          "data": {
            "text/plain": [
              "3"
            ]
          },
          "metadata": {},
          "execution_count": 14
        }
      ]
    },
    {
      "cell_type": "code",
      "metadata": {
        "colab": {
          "base_uri": "https://localhost:8080/"
        },
        "id": "n9FjniwYd8V4",
        "outputId": "7190f461-83bc-4535-e15b-ab243be48599"
      },
      "source": [
        "a3.shape"
      ],
      "execution_count": 15,
      "outputs": [
        {
          "output_type": "execute_result",
          "data": {
            "text/plain": [
              "(2, 3, 3)"
            ]
          },
          "metadata": {},
          "execution_count": 15
        }
      ]
    },
    {
      "cell_type": "code",
      "metadata": {
        "id": "c8CcAR-FeITw"
      },
      "source": [
        "x=pd.DataFrame(np.random.randint(10,size=(6,4)),columns=[\"a\",\"b\",\"c\",\"d\"])"
      ],
      "execution_count": 16,
      "outputs": []
    },
    {
      "cell_type": "code",
      "metadata": {
        "colab": {
          "base_uri": "https://localhost:8080/",
          "height": 235
        },
        "id": "lC8YUoyZe4kT",
        "outputId": "dd426bd5-5466-4203-8680-62f906a95e90"
      },
      "source": [
        "x"
      ],
      "execution_count": 17,
      "outputs": [
        {
          "output_type": "execute_result",
          "data": {
            "text/html": [
              "<div>\n",
              "<style scoped>\n",
              "    .dataframe tbody tr th:only-of-type {\n",
              "        vertical-align: middle;\n",
              "    }\n",
              "\n",
              "    .dataframe tbody tr th {\n",
              "        vertical-align: top;\n",
              "    }\n",
              "\n",
              "    .dataframe thead th {\n",
              "        text-align: right;\n",
              "    }\n",
              "</style>\n",
              "<table border=\"1\" class=\"dataframe\">\n",
              "  <thead>\n",
              "    <tr style=\"text-align: right;\">\n",
              "      <th></th>\n",
              "      <th>a</th>\n",
              "      <th>b</th>\n",
              "      <th>c</th>\n",
              "      <th>d</th>\n",
              "    </tr>\n",
              "  </thead>\n",
              "  <tbody>\n",
              "    <tr>\n",
              "      <th>0</th>\n",
              "      <td>3</td>\n",
              "      <td>1</td>\n",
              "      <td>3</td>\n",
              "      <td>6</td>\n",
              "    </tr>\n",
              "    <tr>\n",
              "      <th>1</th>\n",
              "      <td>9</td>\n",
              "      <td>3</td>\n",
              "      <td>1</td>\n",
              "      <td>4</td>\n",
              "    </tr>\n",
              "    <tr>\n",
              "      <th>2</th>\n",
              "      <td>3</td>\n",
              "      <td>4</td>\n",
              "      <td>7</td>\n",
              "      <td>3</td>\n",
              "    </tr>\n",
              "    <tr>\n",
              "      <th>3</th>\n",
              "      <td>6</td>\n",
              "      <td>3</td>\n",
              "      <td>3</td>\n",
              "      <td>9</td>\n",
              "    </tr>\n",
              "    <tr>\n",
              "      <th>4</th>\n",
              "      <td>4</td>\n",
              "      <td>8</td>\n",
              "      <td>2</td>\n",
              "      <td>6</td>\n",
              "    </tr>\n",
              "    <tr>\n",
              "      <th>5</th>\n",
              "      <td>6</td>\n",
              "      <td>5</td>\n",
              "      <td>9</td>\n",
              "      <td>5</td>\n",
              "    </tr>\n",
              "  </tbody>\n",
              "</table>\n",
              "</div>"
            ],
            "text/plain": [
              "   a  b  c  d\n",
              "0  3  1  3  6\n",
              "1  9  3  1  4\n",
              "2  3  4  7  3\n",
              "3  6  3  3  9\n",
              "4  4  8  2  6\n",
              "5  6  5  9  5"
            ]
          },
          "metadata": {},
          "execution_count": 17
        }
      ]
    },
    {
      "cell_type": "code",
      "metadata": {
        "colab": {
          "base_uri": "https://localhost:8080/"
        },
        "id": "3iuFq0e4e80p",
        "outputId": "9a28e768-588b-4032-a94e-580182fc8344"
      },
      "source": [
        "x.shape"
      ],
      "execution_count": 18,
      "outputs": [
        {
          "output_type": "execute_result",
          "data": {
            "text/plain": [
              "(6, 4)"
            ]
          },
          "metadata": {},
          "execution_count": 18
        }
      ]
    },
    {
      "cell_type": "code",
      "metadata": {
        "colab": {
          "base_uri": "https://localhost:8080/"
        },
        "id": "-gp8tQD-fW_I",
        "outputId": "7a02a5d9-4797-4079-a091-7269ff3f87ef"
      },
      "source": [
        "x.ndim"
      ],
      "execution_count": 19,
      "outputs": [
        {
          "output_type": "execute_result",
          "data": {
            "text/plain": [
              "2"
            ]
          },
          "metadata": {},
          "execution_count": 19
        }
      ]
    },
    {
      "cell_type": "code",
      "metadata": {
        "id": "_2idXBShfaeX"
      },
      "source": [
        "ones_1=np.ones((10,2))"
      ],
      "execution_count": 20,
      "outputs": []
    },
    {
      "cell_type": "code",
      "metadata": {
        "colab": {
          "base_uri": "https://localhost:8080/"
        },
        "id": "xoif2v_vgnDg",
        "outputId": "b00cf406-8fff-43f2-ced5-e98edcc1649e"
      },
      "source": [
        "ones_1"
      ],
      "execution_count": 21,
      "outputs": [
        {
          "output_type": "execute_result",
          "data": {
            "text/plain": [
              "array([[1., 1.],\n",
              "       [1., 1.],\n",
              "       [1., 1.],\n",
              "       [1., 1.],\n",
              "       [1., 1.],\n",
              "       [1., 1.],\n",
              "       [1., 1.],\n",
              "       [1., 1.],\n",
              "       [1., 1.],\n",
              "       [1., 1.]])"
            ]
          },
          "metadata": {},
          "execution_count": 21
        }
      ]
    },
    {
      "cell_type": "code",
      "metadata": {
        "id": "It1z5QWIgpmy"
      },
      "source": [
        "zeros_1=np.zeros((7,2,3))"
      ],
      "execution_count": 22,
      "outputs": []
    },
    {
      "cell_type": "code",
      "metadata": {
        "colab": {
          "base_uri": "https://localhost:8080/"
        },
        "id": "Dz754QKhgwMX",
        "outputId": "91a9709b-1a64-4e57-9571-9cbad781899f"
      },
      "source": [
        "zeros_1"
      ],
      "execution_count": 23,
      "outputs": [
        {
          "output_type": "execute_result",
          "data": {
            "text/plain": [
              "array([[[0., 0., 0.],\n",
              "        [0., 0., 0.]],\n",
              "\n",
              "       [[0., 0., 0.],\n",
              "        [0., 0., 0.]],\n",
              "\n",
              "       [[0., 0., 0.],\n",
              "        [0., 0., 0.]],\n",
              "\n",
              "       [[0., 0., 0.],\n",
              "        [0., 0., 0.]],\n",
              "\n",
              "       [[0., 0., 0.],\n",
              "        [0., 0., 0.]],\n",
              "\n",
              "       [[0., 0., 0.],\n",
              "        [0., 0., 0.]],\n",
              "\n",
              "       [[0., 0., 0.],\n",
              "        [0., 0., 0.]]])"
            ]
          },
          "metadata": {},
          "execution_count": 23
        }
      ]
    },
    {
      "cell_type": "code",
      "metadata": {
        "id": "G9P3ocuqhr7P"
      },
      "source": [
        "# range_array=np.arange(0,100,3) is good\n"
      ],
      "execution_count": 24,
      "outputs": []
    },
    {
      "cell_type": "code",
      "metadata": {
        "id": "LqaJ94tUjOq_"
      },
      "source": [
        "x_1=np.random.randint(10,size=(7,2))"
      ],
      "execution_count": 25,
      "outputs": []
    },
    {
      "cell_type": "code",
      "metadata": {
        "colab": {
          "base_uri": "https://localhost:8080/"
        },
        "id": "mXqAsRDvjp0_",
        "outputId": "65643503-2ccf-4b2d-b41c-16ba2bb36acc"
      },
      "source": [
        "x_1"
      ],
      "execution_count": 26,
      "outputs": [
        {
          "output_type": "execute_result",
          "data": {
            "text/plain": [
              "array([[0, 9],\n",
              "       [8, 0],\n",
              "       [2, 9],\n",
              "       [6, 3],\n",
              "       [1, 7],\n",
              "       [9, 5],\n",
              "       [8, 0]])"
            ]
          },
          "metadata": {},
          "execution_count": 26
        }
      ]
    },
    {
      "cell_type": "code",
      "metadata": {
        "id": "GziwMylSju62"
      },
      "source": [
        "x_2=np.random.random((3,5))"
      ],
      "execution_count": 27,
      "outputs": []
    },
    {
      "cell_type": "code",
      "metadata": {
        "colab": {
          "base_uri": "https://localhost:8080/"
        },
        "id": "1MDnLppAkIIP",
        "outputId": "8f712e9f-438a-4d05-fe5a-1ecc1e7e72bb"
      },
      "source": [
        "x_2"
      ],
      "execution_count": 28,
      "outputs": [
        {
          "output_type": "execute_result",
          "data": {
            "text/plain": [
              "array([[0.23518831, 0.61611569, 0.51714141, 0.4258715 , 0.15654737],\n",
              "       [0.70155786, 0.65921658, 0.77750565, 0.21234857, 0.82617141],\n",
              "       [0.44517582, 0.83106828, 0.56768558, 0.33179151, 0.1464975 ]])"
            ]
          },
          "metadata": {},
          "execution_count": 28
        }
      ]
    },
    {
      "cell_type": "code",
      "metadata": {
        "id": "lyKijqgGkJv_"
      },
      "source": [
        "np.random.seed(42)\n",
        "x_3=np.random.randint(10, size=(4,6))"
      ],
      "execution_count": 29,
      "outputs": []
    },
    {
      "cell_type": "code",
      "metadata": {
        "colab": {
          "base_uri": "https://localhost:8080/"
        },
        "id": "s2iyA_3EkreH",
        "outputId": "32267451-d222-4419-ef32-aec0882776ea"
      },
      "source": [
        "x_3\n",
        "# no change"
      ],
      "execution_count": 30,
      "outputs": [
        {
          "output_type": "execute_result",
          "data": {
            "text/plain": [
              "array([[6, 3, 7, 4, 6, 9],\n",
              "       [2, 6, 7, 4, 3, 7],\n",
              "       [7, 2, 5, 4, 1, 7],\n",
              "       [5, 1, 4, 0, 9, 5]])"
            ]
          },
          "metadata": {},
          "execution_count": 30
        }
      ]
    },
    {
      "cell_type": "code",
      "metadata": {
        "colab": {
          "base_uri": "https://localhost:8080/"
        },
        "id": "U6jYfVjUkxy-",
        "outputId": "93bfb9be-467a-47ab-9ce9-410108c122b2"
      },
      "source": [
        "x_4=np.random.randint(0,11,size=(3,7))\n",
        "x_4"
      ],
      "execution_count": 31,
      "outputs": [
        {
          "output_type": "execute_result",
          "data": {
            "text/plain": [
              "array([[ 8,  0, 10, 10,  9,  2,  6],\n",
              "       [ 3,  8,  2,  4,  2,  6,  4],\n",
              "       [ 8,  6,  1,  3,  8,  1,  9]])"
            ]
          },
          "metadata": {},
          "execution_count": 31
        }
      ]
    },
    {
      "cell_type": "code",
      "metadata": {
        "colab": {
          "base_uri": "https://localhost:8080/"
        },
        "id": "XbC8H13jlTvY",
        "outputId": "0475daa1-4199-4311-d9d1-fd0e5aacfbd3"
      },
      "source": [
        "np.unique(x_4)"
      ],
      "execution_count": 32,
      "outputs": [
        {
          "output_type": "execute_result",
          "data": {
            "text/plain": [
              "array([ 0,  1,  2,  3,  4,  6,  8,  9, 10])"
            ]
          },
          "metadata": {},
          "execution_count": 32
        }
      ]
    },
    {
      "cell_type": "code",
      "metadata": {
        "colab": {
          "base_uri": "https://localhost:8080/"
        },
        "id": "CdHCpzw7lszG",
        "outputId": "b84cad0d-ea5f-4a76-fa1c-e2682ff1ea9b"
      },
      "source": [
        "x_4[0]"
      ],
      "execution_count": 33,
      "outputs": [
        {
          "output_type": "execute_result",
          "data": {
            "text/plain": [
              "array([ 8,  0, 10, 10,  9,  2,  6])"
            ]
          },
          "metadata": {},
          "execution_count": 33
        }
      ]
    },
    {
      "cell_type": "code",
      "metadata": {
        "colab": {
          "base_uri": "https://localhost:8080/"
        },
        "id": "2r0HPQ3XmNQW",
        "outputId": "8b53ff93-91df-4c2a-be53-7df77df2dae2"
      },
      "source": [
        "x_4[0:2]"
      ],
      "execution_count": 34,
      "outputs": [
        {
          "output_type": "execute_result",
          "data": {
            "text/plain": [
              "array([[ 8,  0, 10, 10,  9,  2,  6],\n",
              "       [ 3,  8,  2,  4,  2,  6,  4]])"
            ]
          },
          "metadata": {},
          "execution_count": 34
        }
      ]
    },
    {
      "cell_type": "code",
      "metadata": {
        "colab": {
          "base_uri": "https://localhost:8080/"
        },
        "id": "LvbHNQgHmZtI",
        "outputId": "53a46fc6-121e-4229-8c9c-6c3938bceda9"
      },
      "source": [
        "x_4[0:2,0:2]"
      ],
      "execution_count": 35,
      "outputs": [
        {
          "output_type": "execute_result",
          "data": {
            "text/plain": [
              "array([[8, 0],\n",
              "       [3, 8]])"
            ]
          },
          "metadata": {},
          "execution_count": 35
        }
      ]
    },
    {
      "cell_type": "code",
      "metadata": {
        "colab": {
          "base_uri": "https://localhost:8080/"
        },
        "id": "8fTSUsJWmnkR",
        "outputId": "09a45959-7ad3-4e75-f04e-4554d4247d81"
      },
      "source": [
        "x_5=np.random.randint(0,11,size=(3,5))\n",
        "x_5"
      ],
      "execution_count": 36,
      "outputs": [
        {
          "output_type": "execute_result",
          "data": {
            "text/plain": [
              "array([[8, 9, 4, 1, 3],\n",
              "       [6, 7, 2, 0, 3],\n",
              "       [1, 7, 3, 1, 5]])"
            ]
          },
          "metadata": {},
          "execution_count": 36
        }
      ]
    },
    {
      "cell_type": "code",
      "metadata": {
        "id": "lwI2wumUm12v"
      },
      "source": [
        "# x_5+x_4 no function because the numbers column x_5 is different from the numbers of  of x_4 "
      ],
      "execution_count": 37,
      "outputs": []
    },
    {
      "cell_type": "code",
      "metadata": {
        "id": "7aevIsdandGW"
      },
      "source": [
        "x_6=np.random.randint(0,11,size=(3,5))"
      ],
      "execution_count": 38,
      "outputs": []
    },
    {
      "cell_type": "code",
      "metadata": {
        "id": "wWQxHD5nosor"
      },
      "source": [
        ""
      ],
      "execution_count": 38,
      "outputs": []
    },
    {
      "cell_type": "code",
      "metadata": {
        "id": "G_daS__aouRu"
      },
      "source": [
        "x_61=np.random.randint(0,11,size=(5,3))"
      ],
      "execution_count": 39,
      "outputs": []
    },
    {
      "cell_type": "code",
      "metadata": {
        "colab": {
          "base_uri": "https://localhost:8080/"
        },
        "id": "L8_h5ANlnjXW",
        "outputId": "46637226-e6d7-4e55-bc92-fce30a92aeef"
      },
      "source": [
        "x_5+x_6"
      ],
      "execution_count": 40,
      "outputs": [
        {
          "output_type": "execute_result",
          "data": {
            "text/plain": [
              "array([[13, 18,  7,  6,  4],\n",
              "       [15,  8, 11,  3, 10],\n",
              "       [ 7, 15, 10,  5,  6]])"
            ]
          },
          "metadata": {},
          "execution_count": 40
        }
      ]
    },
    {
      "cell_type": "code",
      "metadata": {
        "colab": {
          "base_uri": "https://localhost:8080/"
        },
        "id": "bv2aRUytoEDv",
        "outputId": "f734da97-965a-46a0-ce76-8d96c0795b7d"
      },
      "source": [
        "np.dot(x_5,x_61)"
      ],
      "execution_count": 41,
      "outputs": [
        {
          "output_type": "execute_result",
          "data": {
            "text/plain": [
              "array([[164, 182, 117],\n",
              "       [117, 140,  76],\n",
              "       [126, 131,  50]])"
            ]
          },
          "metadata": {},
          "execution_count": 41
        }
      ]
    },
    {
      "cell_type": "code",
      "metadata": {
        "colab": {
          "base_uri": "https://localhost:8080/"
        },
        "id": "eitknWgwpQkf",
        "outputId": "d497720e-2bec-4130-c455-051b6cc4bf19"
      },
      "source": [
        "x_61"
      ],
      "execution_count": 42,
      "outputs": [
        {
          "output_type": "execute_result",
          "data": {
            "text/plain": [
              "array([[ 4,  7,  9],\n",
              "       [ 8,  8,  0],\n",
              "       [ 8,  6,  8],\n",
              "       [ 7,  0,  7],\n",
              "       [ 7, 10,  2]])"
            ]
          },
          "metadata": {},
          "execution_count": 42
        }
      ]
    },
    {
      "cell_type": "code",
      "metadata": {
        "colab": {
          "base_uri": "https://localhost:8080/"
        },
        "id": "fhQjkKy_o9PO",
        "outputId": "8bcdd584-b44c-4f9e-c230-a1ec0fd009ba"
      },
      "source": [
        "x_61**2"
      ],
      "execution_count": 43,
      "outputs": [
        {
          "output_type": "execute_result",
          "data": {
            "text/plain": [
              "array([[ 16,  49,  81],\n",
              "       [ 64,  64,   0],\n",
              "       [ 64,  36,  64],\n",
              "       [ 49,   0,  49],\n",
              "       [ 49, 100,   4]])"
            ]
          },
          "metadata": {},
          "execution_count": 43
        }
      ]
    },
    {
      "cell_type": "code",
      "metadata": {
        "colab": {
          "base_uri": "https://localhost:8080/"
        },
        "id": "7iqFX9IWpDVv",
        "outputId": "f1e940d1-77ce-401c-ac66-5c88910139df"
      },
      "source": [
        "np.square(x_61)"
      ],
      "execution_count": 44,
      "outputs": [
        {
          "output_type": "execute_result",
          "data": {
            "text/plain": [
              "array([[ 16,  49,  81],\n",
              "       [ 64,  64,   0],\n",
              "       [ 64,  36,  64],\n",
              "       [ 49,   0,  49],\n",
              "       [ 49, 100,   4]])"
            ]
          },
          "metadata": {},
          "execution_count": 44
        }
      ]
    },
    {
      "cell_type": "code",
      "metadata": {
        "colab": {
          "base_uri": "https://localhost:8080/"
        },
        "id": "XooFdWIIpHio",
        "outputId": "89e1cfe0-7ec0-427a-a852-2115d4f9cfcc"
      },
      "source": [
        "np.mean(x_1)"
      ],
      "execution_count": 45,
      "outputs": [
        {
          "output_type": "execute_result",
          "data": {
            "text/plain": [
              "4.785714285714286"
            ]
          },
          "metadata": {},
          "execution_count": 45
        }
      ]
    },
    {
      "cell_type": "code",
      "metadata": {
        "colab": {
          "base_uri": "https://localhost:8080/"
        },
        "id": "5xObAl3apK_Q",
        "outputId": "c46c84d7-b858-40c2-bc3d-c8d3dc9dba7d"
      },
      "source": [
        "np.max(x_61)"
      ],
      "execution_count": 46,
      "outputs": [
        {
          "output_type": "execute_result",
          "data": {
            "text/plain": [
              "10"
            ]
          },
          "metadata": {},
          "execution_count": 46
        }
      ]
    },
    {
      "cell_type": "code",
      "metadata": {
        "colab": {
          "base_uri": "https://localhost:8080/"
        },
        "id": "rkpliefTpOHW",
        "outputId": "1eb8fcd6-42ba-4e83-c720-ee9c02244471"
      },
      "source": [
        "np.min(x_61)"
      ],
      "execution_count": 47,
      "outputs": [
        {
          "output_type": "execute_result",
          "data": {
            "text/plain": [
              "0"
            ]
          },
          "metadata": {},
          "execution_count": 47
        }
      ]
    },
    {
      "cell_type": "code",
      "metadata": {
        "colab": {
          "base_uri": "https://localhost:8080/"
        },
        "id": "h7_vgC_fpX9y",
        "outputId": "e38fcf18-10c2-4d3c-bd8a-1eeca890caaf"
      },
      "source": [
        "np.std(x_61)"
      ],
      "execution_count": 48,
      "outputs": [
        {
          "output_type": "execute_result",
          "data": {
            "text/plain": [
              "3.0214051182999095"
            ]
          },
          "metadata": {},
          "execution_count": 48
        }
      ]
    },
    {
      "cell_type": "code",
      "metadata": {
        "colab": {
          "base_uri": "https://localhost:8080/"
        },
        "id": "ezMs81ZNpgwO",
        "outputId": "06efec0a-c432-4066-e339-2017e7b2c4d9"
      },
      "source": [
        "np.var(x_61)"
      ],
      "execution_count": 49,
      "outputs": [
        {
          "output_type": "execute_result",
          "data": {
            "text/plain": [
              "9.12888888888889"
            ]
          },
          "metadata": {},
          "execution_count": 49
        }
      ]
    },
    {
      "cell_type": "code",
      "metadata": {
        "colab": {
          "base_uri": "https://localhost:8080/"
        },
        "id": "iH1gjqosqXiO",
        "outputId": "01a4da6e-5171-44e0-893b-6eeaf07c0588"
      },
      "source": [
        "x_61.shape"
      ],
      "execution_count": 50,
      "outputs": [
        {
          "output_type": "execute_result",
          "data": {
            "text/plain": [
              "(5, 3)"
            ]
          },
          "metadata": {},
          "execution_count": 50
        }
      ]
    },
    {
      "cell_type": "code",
      "metadata": {
        "colab": {
          "base_uri": "https://localhost:8080/"
        },
        "id": "fTf8M0OZpnq4",
        "outputId": "2388f4d4-bce3-468f-f6b9-0344e41ff02f"
      },
      "source": [
        "x_61.reshape(3,5)"
      ],
      "execution_count": 51,
      "outputs": [
        {
          "output_type": "execute_result",
          "data": {
            "text/plain": [
              "array([[ 4,  7,  9,  8,  8],\n",
              "       [ 0,  8,  6,  8,  7],\n",
              "       [ 0,  7,  7, 10,  2]])"
            ]
          },
          "metadata": {},
          "execution_count": 51
        }
      ]
    },
    {
      "cell_type": "code",
      "metadata": {
        "colab": {
          "base_uri": "https://localhost:8080/"
        },
        "id": "_Ln6tLqaqfIl",
        "outputId": "51748ee5-b891-4327-ee25-56ee6a9e0092"
      },
      "source": [
        "x_61.T\n",
        "# change the numbers of columns to the number of rows amd viceversa"
      ],
      "execution_count": 52,
      "outputs": [
        {
          "output_type": "execute_result",
          "data": {
            "text/plain": [
              "array([[ 4,  8,  8,  7,  7],\n",
              "       [ 7,  8,  6,  0, 10],\n",
              "       [ 9,  0,  8,  7,  2]])"
            ]
          },
          "metadata": {},
          "execution_count": 52
        }
      ]
    },
    {
      "cell_type": "code",
      "metadata": {
        "colab": {
          "base_uri": "https://localhost:8080/"
        },
        "id": "yI_-a8YJqm7c",
        "outputId": "36bec805-3e17-4eed-ef24-070f8c3b14d6"
      },
      "source": [
        "x_7=np.random.randint(0,11,size=(3,3))\n",
        "x_7"
      ],
      "execution_count": 53,
      "outputs": [
        {
          "output_type": "execute_result",
          "data": {
            "text/plain": [
              "array([[ 0,  7,  2],\n",
              "       [ 2,  0, 10],\n",
              "       [ 4,  9,  6]])"
            ]
          },
          "metadata": {},
          "execution_count": 53
        }
      ]
    },
    {
      "cell_type": "code",
      "metadata": {
        "colab": {
          "base_uri": "https://localhost:8080/"
        },
        "id": "fs7eboTGq7we",
        "outputId": "347b04e6-4547-4e6a-970a-65ed3df2ec4d"
      },
      "source": [
        "x_8=np.random.randint(0,11,size=(3,2))\n",
        "x_8"
      ],
      "execution_count": 54,
      "outputs": [
        {
          "output_type": "execute_result",
          "data": {
            "text/plain": [
              "array([[9, 8],\n",
              "       [6, 8],\n",
              "       [7, 1]])"
            ]
          },
          "metadata": {},
          "execution_count": 54
        }
      ]
    },
    {
      "cell_type": "code",
      "metadata": {
        "colab": {
          "base_uri": "https://localhost:8080/"
        },
        "id": "in_WBc2BrBgp",
        "outputId": "dc86fc48-4c01-4a61-c521-37d17086c7ec"
      },
      "source": [
        "np.dot(x_7,x_8)"
      ],
      "execution_count": 55,
      "outputs": [
        {
          "output_type": "execute_result",
          "data": {
            "text/plain": [
              "array([[ 56,  58],\n",
              "       [ 88,  26],\n",
              "       [132, 110]])"
            ]
          },
          "metadata": {},
          "execution_count": 55
        }
      ]
    },
    {
      "cell_type": "code",
      "metadata": {
        "id": "F_k8S5-arOeH"
      },
      "source": [
        "x_9=np.random.randint(0,11,size=(4,3))"
      ],
      "execution_count": 56,
      "outputs": []
    },
    {
      "cell_type": "code",
      "metadata": {
        "id": "5cEUCbNGrWXB"
      },
      "source": [
        "x_10=np.random.randint(0,11,size=(4,3))"
      ],
      "execution_count": 57,
      "outputs": []
    },
    {
      "cell_type": "code",
      "metadata": {
        "id": "E3ayn4TN4iQn"
      },
      "source": [
        ""
      ],
      "execution_count": null,
      "outputs": []
    },
    {
      "cell_type": "code",
      "metadata": {
        "colab": {
          "base_uri": "https://localhost:8080/"
        },
        "id": "oalE3-Y24WWP",
        "outputId": "ebe8f553-d884-40c0-e787-eeb517280fc0"
      },
      "source": [
        "x_10.T"
      ],
      "execution_count": 58,
      "outputs": [
        {
          "output_type": "execute_result",
          "data": {
            "text/plain": [
              "array([[ 4,  4,  6,  9],\n",
              "       [ 2,  9, 10,  9],\n",
              "       [ 0,  6,  8,  2]])"
            ]
          },
          "metadata": {},
          "execution_count": 58
        }
      ]
    },
    {
      "cell_type": "code",
      "metadata": {
        "id": "gziGUSknradO"
      },
      "source": [
        "# np.dot(x_9,x_10) is not possible because the row of 9 have to be the same number of the columns of 10"
      ],
      "execution_count": 59,
      "outputs": []
    },
    {
      "cell_type": "code",
      "metadata": {
        "id": "ygwzyyLMrt9o",
        "colab": {
          "base_uri": "https://localhost:8080/"
        },
        "outputId": "e712ad36-13ad-43b3-b3a9-6368448129b4"
      },
      "source": [
        "np.dot(x_9,x_10.T)"
      ],
      "execution_count": 61,
      "outputs": [
        {
          "output_type": "execute_result",
          "data": {
            "text/plain": [
              "array([[ 12,  90, 108,  66],\n",
              "       [ 36,  76,  98, 103],\n",
              "       [ 38, 133, 172, 128],\n",
              "       [  8,  20,  28,  22]])"
            ]
          },
          "metadata": {},
          "execution_count": 61
        }
      ]
    },
    {
      "cell_type": "code",
      "metadata": {
        "colab": {
          "base_uri": "https://localhost:8080/"
        },
        "id": "vh9jftcv4tou",
        "outputId": "67061771-cf04-4351-e1a2-87500f0f19a0"
      },
      "source": [
        "x_10>x_9"
      ],
      "execution_count": 62,
      "outputs": [
        {
          "output_type": "execute_result",
          "data": {
            "text/plain": [
              "array([[ True, False, False],\n",
              "       [False,  True,  True],\n",
              "       [False,  True, False],\n",
              "       [ True,  True, False]])"
            ]
          },
          "metadata": {},
          "execution_count": 62
        }
      ]
    },
    {
      "cell_type": "code",
      "metadata": {
        "colab": {
          "base_uri": "https://localhost:8080/"
        },
        "id": "fk9bpAY-44C4",
        "outputId": "b12d4c9f-1056-4e48-8126-7560e7b7957d"
      },
      "source": [
        "x_10>=x_9"
      ],
      "execution_count": 63,
      "outputs": [
        {
          "output_type": "execute_result",
          "data": {
            "text/plain": [
              "array([[ True, False, False],\n",
              "       [False,  True,  True],\n",
              "       [False,  True, False],\n",
              "       [ True,  True,  True]])"
            ]
          },
          "metadata": {},
          "execution_count": 63
        }
      ]
    },
    {
      "cell_type": "code",
      "metadata": {
        "colab": {
          "base_uri": "https://localhost:8080/"
        },
        "id": "TmB5CF6y4_X-",
        "outputId": "f87bf4a1-fd27-4ca1-d636-fbb23e1cb6f9"
      },
      "source": [
        "x_10>7"
      ],
      "execution_count": 64,
      "outputs": [
        {
          "output_type": "execute_result",
          "data": {
            "text/plain": [
              "array([[False, False, False],\n",
              "       [False,  True, False],\n",
              "       [False,  True,  True],\n",
              "       [ True,  True, False]])"
            ]
          },
          "metadata": {},
          "execution_count": 64
        }
      ]
    },
    {
      "cell_type": "code",
      "metadata": {
        "colab": {
          "base_uri": "https://localhost:8080/"
        },
        "id": "JCmoA90Q5DL2",
        "outputId": "ca6a9b67-e995-468c-e170-e2f8a2f0c67b"
      },
      "source": [
        "x_10==x_9"
      ],
      "execution_count": 65,
      "outputs": [
        {
          "output_type": "execute_result",
          "data": {
            "text/plain": [
              "array([[False, False, False],\n",
              "       [False, False, False],\n",
              "       [False, False, False],\n",
              "       [False, False,  True]])"
            ]
          },
          "metadata": {},
          "execution_count": 65
        }
      ]
    },
    {
      "cell_type": "code",
      "metadata": {
        "colab": {
          "base_uri": "https://localhost:8080/"
        },
        "id": "ibry_Kf55Kx-",
        "outputId": "ac2395af-ed80-4505-ce75-648b3a95784c"
      },
      "source": [
        "np.argsort(x_10)"
      ],
      "execution_count": 67,
      "outputs": [
        {
          "output_type": "execute_result",
          "data": {
            "text/plain": [
              "array([[2, 1, 0],\n",
              "       [0, 2, 1],\n",
              "       [0, 2, 1],\n",
              "       [2, 0, 1]])"
            ]
          },
          "metadata": {},
          "execution_count": 67
        }
      ]
    },
    {
      "cell_type": "code",
      "metadata": {
        "id": "lEn6FXKY5eJ5"
      },
      "source": [
        ""
      ],
      "execution_count": null,
      "outputs": []
    },
    {
      "cell_type": "code",
      "metadata": {
        "colab": {
          "base_uri": "https://localhost:8080/"
        },
        "id": "Xbw-NrvS5nce",
        "outputId": "8ae21d08-8f8e-4c1b-9550-a0cbe798d45b"
      },
      "source": [
        "np.sort(x_10)"
      ],
      "execution_count": 68,
      "outputs": [
        {
          "output_type": "execute_result",
          "data": {
            "text/plain": [
              "array([[ 0,  2,  4],\n",
              "       [ 4,  6,  9],\n",
              "       [ 6,  8, 10],\n",
              "       [ 2,  9,  9]])"
            ]
          },
          "metadata": {},
          "execution_count": 68
        }
      ]
    },
    {
      "cell_type": "code",
      "metadata": {
        "colab": {
          "base_uri": "https://localhost:8080/"
        },
        "id": "vz8K5aee5rjP",
        "outputId": "5df0590d-e240-463b-a141-f417287b55c7"
      },
      "source": [
        "np.argmax(x_10)"
      ],
      "execution_count": 69,
      "outputs": [
        {
          "output_type": "execute_result",
          "data": {
            "text/plain": [
              "7"
            ]
          },
          "metadata": {},
          "execution_count": 69
        }
      ]
    },
    {
      "cell_type": "code",
      "metadata": {
        "colab": {
          "base_uri": "https://localhost:8080/"
        },
        "id": "1VeUZm5s5wr-",
        "outputId": "94e679b8-b94c-4490-9844-be92307c80ca"
      },
      "source": [
        "np.argmin(x_10)"
      ],
      "execution_count": 70,
      "outputs": [
        {
          "output_type": "execute_result",
          "data": {
            "text/plain": [
              "2"
            ]
          },
          "metadata": {},
          "execution_count": 70
        }
      ]
    },
    {
      "cell_type": "code",
      "metadata": {
        "colab": {
          "base_uri": "https://localhost:8080/"
        },
        "id": "HVtTNE5Z52Yo",
        "outputId": "60b7c55f-f675-4788-d794-8e1c64c11a98"
      },
      "source": [
        "np.argmax(x_10,axis=1)"
      ],
      "execution_count": 74,
      "outputs": [
        {
          "output_type": "execute_result",
          "data": {
            "text/plain": [
              "array([0, 1, 1, 0])"
            ]
          },
          "metadata": {},
          "execution_count": 74
        }
      ]
    },
    {
      "cell_type": "code",
      "metadata": {
        "colab": {
          "base_uri": "https://localhost:8080/"
        },
        "id": "lSiFmpYr6c3_",
        "outputId": "15beda6a-a3a2-420b-ae79-77d1da988f92"
      },
      "source": [
        "np.argmin(x_10,axis=0)"
      ],
      "execution_count": 75,
      "outputs": [
        {
          "output_type": "execute_result",
          "data": {
            "text/plain": [
              "array([0, 0, 0])"
            ]
          },
          "metadata": {},
          "execution_count": 75
        }
      ]
    },
    {
      "cell_type": "code",
      "metadata": {
        "colab": {
          "base_uri": "https://localhost:8080/"
        },
        "id": "xgqosJSl6laG",
        "outputId": "37eb1e77-8033-4f8c-c8cf-fb467a2b9a53"
      },
      "source": [
        "np.random.randn(10,4,3)"
      ],
      "execution_count": 76,
      "outputs": [
        {
          "output_type": "execute_result",
          "data": {
            "text/plain": [
              "array([[[ 0.08704707, -0.29900735,  0.09176078],\n",
              "        [-1.98756891, -0.21967189,  0.35711257],\n",
              "        [ 1.47789404, -0.51827022, -0.8084936 ],\n",
              "        [-0.50175704,  0.91540212,  0.32875111]],\n",
              "\n",
              "       [[-0.5297602 ,  0.51326743,  0.09707755],\n",
              "        [ 0.96864499, -0.70205309, -0.32766215],\n",
              "        [-0.39210815, -1.46351495,  0.29612028],\n",
              "        [ 0.26105527,  0.00511346, -0.23458713]],\n",
              "\n",
              "       [[-1.41537074, -0.42064532, -0.34271452],\n",
              "        [-0.80227727, -0.16128571,  0.40405086],\n",
              "        [ 1.8861859 ,  0.17457781,  0.25755039],\n",
              "        [-0.07444592, -1.91877122, -0.02651388]],\n",
              "\n",
              "       [[ 0.06023021,  2.46324211, -0.19236096],\n",
              "        [ 0.30154734, -0.03471177, -1.16867804],\n",
              "        [ 1.14282281,  0.75193303,  0.79103195],\n",
              "        [-0.90938745,  1.40279431, -1.40185106]],\n",
              "\n",
              "       [[ 0.58685709,  2.19045563, -0.99053633],\n",
              "        [-0.56629773,  0.09965137, -0.50347565],\n",
              "        [-1.55066343,  0.06856297, -1.06230371],\n",
              "        [ 0.47359243, -0.91942423,  1.54993441]],\n",
              "\n",
              "       [[-0.78325329, -0.32206152,  0.81351722],\n",
              "        [-1.23086432,  0.22745993,  1.30714275],\n",
              "        [-1.60748323,  0.18463386,  0.25988279],\n",
              "        [ 0.78182287, -1.23695071, -1.32045661]],\n",
              "\n",
              "       [[ 0.52194157,  0.29698467,  0.25049285],\n",
              "        [ 0.34644821, -0.68002472,  0.2322537 ],\n",
              "        [ 0.29307247, -0.71435142,  1.86577451],\n",
              "        [ 0.47383292, -1.1913035 ,  0.65655361]],\n",
              "\n",
              "       [[-0.97468167,  0.7870846 ,  1.15859558],\n",
              "        [-0.82068232,  0.96337613,  0.41278093],\n",
              "        [ 0.82206016,  1.89679298, -0.24538812],\n",
              "        [-0.75373616, -0.88951443, -0.81581028]],\n",
              "\n",
              "       [[-0.07710171,  0.34115197,  0.2766908 ],\n",
              "        [ 0.82718325,  0.01300189,  1.45353408],\n",
              "        [-0.26465683,  2.72016917,  0.62566735],\n",
              "        [-0.85715756, -1.0708925 ,  0.48247242]],\n",
              "\n",
              "       [[-0.22346279,  0.71400049,  0.47323762],\n",
              "        [-0.07282891, -0.84679372, -1.51484722],\n",
              "        [-0.44651495,  0.85639879,  0.21409374],\n",
              "        [-1.24573878,  0.17318093,  0.38531738]]])"
            ]
          },
          "metadata": {},
          "execution_count": 76
        }
      ]
    },
    {
      "cell_type": "code",
      "metadata": {
        "colab": {
          "base_uri": "https://localhost:8080/"
        },
        "id": "JZdbf10P7S5l",
        "outputId": "cad78f42-1058-4b1c-8b17-3506e2c94b29"
      },
      "source": [
        "np.linspace(1,100,10)"
      ],
      "execution_count": 77,
      "outputs": [
        {
          "output_type": "execute_result",
          "data": {
            "text/plain": [
              "array([  1.,  12.,  23.,  34.,  45.,  56.,  67.,  78.,  89., 100.])"
            ]
          },
          "metadata": {},
          "execution_count": 77
        }
      ]
    }
  ]
}